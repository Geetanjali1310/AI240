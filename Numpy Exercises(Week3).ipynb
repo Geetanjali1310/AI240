{
 "cells": [
  {
   "cell_type": "markdown",
   "metadata": {},
   "source": [
    "# Numpy Exercise for AI 240  - 10459          \n",
    "\n",
    "Instructor- Dr. Uma Gajendragadkar\n",
    "\n",
    "### Exercise 1.1 - If Numpy is not already installed then please install Numpy using below instruction\n",
    "!pip install Numpy      \n",
    "\n",
    "### Exercise 1.2 # Import Numpy package using below instruction \n",
    "import numpy as np\n",
    "\n",
    "### Exercise 1.3 ## Example Usage Read below example and execute the cell\n",
    "\n",
    "data = np.array([1,2,3,4,5])\n",
    "\n",
    "print(data)\n",
    "\n",
    "print(len(data))\n",
    "\n",
    "print(type(data))\n",
    "\n",
    "print(data.shape)\n",
    "\n",
    "### Exercise 1.4 Do all exercises from Lecture slides. Refer slides shared after the lecture.\n",
    "\n",
    "### Exercise 1.5 Searching Arrays - find method of numpy to search an element in array - You can google for the method\n",
    "\n",
    "Find the indexes where the value is 9:\n",
    "\n",
    "\n",
    "arr = np.array([3, 2, 14, 9, 10, 12])\n",
    "\n",
    "### Exercise 1.6 Join two arrays given below and print the result.\n",
    "\n",
    "arr1 = np.array([9, 5, 8])\n",
    "\n",
    "arr2 = np.array([55, 89, 76])\n",
    "\n",
    "### Save and submit your notebook in your Github account."
   ]
  },
  {
   "cell_type": "code",
   "execution_count": null,
   "metadata": {},
   "outputs": [],
   "source": []
  },
  {
   "cell_type": "markdown",
   "metadata": {},
   "source": [
    "## Ex 1-1 Installing numpy"
   ]
  },
  {
   "cell_type": "code",
   "execution_count": 5,
   "metadata": {},
   "outputs": [
    {
     "name": "stdout",
     "output_type": "stream",
     "text": [
      "Requirement already satisfied: numpy in c:\\users\\smita\\anaconda3\\lib\\site-packages (1.26.4)\n"
     ]
    }
   ],
   "source": [
    "!pip install numpy"
   ]
  },
  {
   "cell_type": "markdown",
   "metadata": {},
   "source": [
    "## Ex 1-2 Importing numpy"
   ]
  },
  {
   "cell_type": "code",
   "execution_count": 6,
   "metadata": {},
   "outputs": [],
   "source": [
    "import numpy as np"
   ]
  },
  {
   "cell_type": "markdown",
   "metadata": {},
   "source": [
    "## Ex 1-3 Example"
   ]
  },
  {
   "cell_type": "code",
   "execution_count": 7,
   "metadata": {},
   "outputs": [],
   "source": [
    "data = np.array([1,2,3,4,5])"
   ]
  },
  {
   "cell_type": "code",
   "execution_count": 8,
   "metadata": {},
   "outputs": [
    {
     "name": "stdout",
     "output_type": "stream",
     "text": [
      "[1 2 3 4 5]\n"
     ]
    }
   ],
   "source": [
    "print(data)"
   ]
  },
  {
   "cell_type": "code",
   "execution_count": 9,
   "metadata": {},
   "outputs": [
    {
     "name": "stdout",
     "output_type": "stream",
     "text": [
      "5\n"
     ]
    }
   ],
   "source": [
    "print(len(data))"
   ]
  },
  {
   "cell_type": "code",
   "execution_count": 10,
   "metadata": {},
   "outputs": [
    {
     "name": "stdout",
     "output_type": "stream",
     "text": [
      "<class 'numpy.ndarray'>\n"
     ]
    }
   ],
   "source": [
    "print(type(data))"
   ]
  },
  {
   "cell_type": "code",
   "execution_count": 11,
   "metadata": {},
   "outputs": [
    {
     "name": "stdout",
     "output_type": "stream",
     "text": [
      "(5,)\n"
     ]
    }
   ],
   "source": [
    "print(data.shape)"
   ]
  },
  {
   "cell_type": "markdown",
   "metadata": {},
   "source": [
    "## Ex 1-4 Exercise from lecture slides"
   ]
  },
  {
   "cell_type": "code",
   "execution_count": 12,
   "metadata": {},
   "outputs": [
    {
     "name": "stdout",
     "output_type": "stream",
     "text": [
      "[10 20 30 40 50]\n"
     ]
    }
   ],
   "source": [
    "# Example 1- Creating an array\n",
    "arr = np.array([10, 20, 30, 40, 50])\n",
    "print(arr)"
   ]
  },
  {
   "cell_type": "code",
   "execution_count": 13,
   "metadata": {},
   "outputs": [
    {
     "name": "stdout",
     "output_type": "stream",
     "text": [
      "[[10 20 30]\n",
      " [40 50 60]]\n"
     ]
    }
   ],
   "source": [
    "# Example 2- Creating a 2D array\n",
    "arr = np.array([[10, 20, 30], [40, 50, 60]])\n",
    "print(arr)"
   ]
  },
  {
   "cell_type": "code",
   "execution_count": 14,
   "metadata": {},
   "outputs": [
    {
     "name": "stdout",
     "output_type": "stream",
     "text": [
      "10\n"
     ]
    }
   ],
   "source": [
    "# Example 3- Array indexing\n",
    "arr = np.array([10, 20, 30, 40, 50])\n",
    "print(arr[0])"
   ]
  },
  {
   "cell_type": "code",
   "execution_count": 15,
   "metadata": {},
   "outputs": [
    {
     "name": "stdout",
     "output_type": "stream",
     "text": [
      "[2 3 4 5]\n"
     ]
    }
   ],
   "source": [
    "# Example 4- Slicing in an array\n",
    "arr = np.array([1, 2, 3, 4, 5, 6, 7])\n",
    "print(arr[1:5])"
   ]
  },
  {
   "cell_type": "code",
   "execution_count": 16,
   "metadata": {},
   "outputs": [
    {
     "name": "stdout",
     "output_type": "stream",
     "text": [
      "[10 20 30 40]\n"
     ]
    }
   ],
   "source": [
    "# Example 5- Sorting the array\n",
    "arr = np.array([30, 40, 20, 10])\n",
    "print(np.sort(arr))"
   ]
  },
  {
   "cell_type": "code",
   "execution_count": 17,
   "metadata": {},
   "outputs": [
    {
     "name": "stdout",
     "output_type": "stream",
     "text": [
      "['apple' 'berry' 'grapes' 'kiwi']\n"
     ]
    }
   ],
   "source": [
    "# Example 6- Sorting array alphabetically\n",
    "arr= np.array(['kiwi', 'berry', 'grapes', 'apple'])\n",
    "print(np.sort(arr))"
   ]
  },
  {
   "cell_type": "markdown",
   "metadata": {},
   "source": [
    "## Ex 1-5 Searching arrays"
   ]
  },
  {
   "cell_type": "code",
   "execution_count": 18,
   "metadata": {},
   "outputs": [],
   "source": [
    "arr = np.array([3, 2, 14, 9, 10, 12])"
   ]
  },
  {
   "cell_type": "code",
   "execution_count": 19,
   "metadata": {},
   "outputs": [],
   "source": [
    "x = np.where(arr == 9)"
   ]
  },
  {
   "cell_type": "code",
   "execution_count": 20,
   "metadata": {},
   "outputs": [
    {
     "name": "stdout",
     "output_type": "stream",
     "text": [
      "(array([3], dtype=int64),)\n"
     ]
    }
   ],
   "source": [
    "print(x)"
   ]
  },
  {
   "cell_type": "markdown",
   "metadata": {},
   "source": [
    "## Ex 1-6 Joining arrays"
   ]
  },
  {
   "cell_type": "code",
   "execution_count": 21,
   "metadata": {},
   "outputs": [],
   "source": [
    "arr1 = np.array([9, 5, 8])\n",
    "\n",
    "arr2 = np.array([55, 89, 76])"
   ]
  },
  {
   "cell_type": "code",
   "execution_count": 22,
   "metadata": {},
   "outputs": [],
   "source": [
    "# Join the arrays\n",
    "result = np.concatenate((arr1, arr2))"
   ]
  },
  {
   "cell_type": "code",
   "execution_count": 23,
   "metadata": {},
   "outputs": [
    {
     "name": "stdout",
     "output_type": "stream",
     "text": [
      "Joined array: [ 9  5  8 55 89 76]\n"
     ]
    }
   ],
   "source": [
    "# Print the result\n",
    "print(\"Joined array:\", result)"
   ]
  },
  {
   "cell_type": "code",
   "execution_count": 24,
   "metadata": {},
   "outputs": [
    {
     "name": "stdout",
     "output_type": "stream",
     "text": [
      "[ 9  5  8 55 89 76]\n"
     ]
    }
   ],
   "source": [
    "# Or we can also write as\n",
    "print(result)"
   ]
  }
 ],
 "metadata": {
  "kernelspec": {
   "display_name": "Python 3 (ipykernel)",
   "language": "python",
   "name": "python3"
  },
  "language_info": {
   "codemirror_mode": {
    "name": "ipython",
    "version": 3
   },
   "file_extension": ".py",
   "mimetype": "text/x-python",
   "name": "python",
   "nbconvert_exporter": "python",
   "pygments_lexer": "ipython3",
   "version": "3.12.7"
  }
 },
 "nbformat": 4,
 "nbformat_minor": 4
}
